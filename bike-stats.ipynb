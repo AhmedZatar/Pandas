{
 "metadata": {
  "language_info": {
   "codemirror_mode": {
    "name": "ipython",
    "version": 3
   },
   "file_extension": ".py",
   "mimetype": "text/x-python",
   "name": "python",
   "nbconvert_exporter": "python",
   "pygments_lexer": "ipython3",
   "version": "3.9.4"
  },
  "orig_nbformat": 4,
  "kernelspec": {
   "name": "python3",
   "display_name": "Python 3.9.4 64-bit ('.venv': poetry)"
  },
  "interpreter": {
   "hash": "92983071820b1ee743c3439499a61c2d2b5d9c55620fd20eb61490bef8ec115c"
  }
 },
 "nbformat": 4,
 "nbformat_minor": 2,
 "cells": [
  {
   "cell_type": "code",
   "execution_count": 34,
   "metadata": {},
   "outputs": [],
   "source": [
    "import pandas as pd\n",
    "import numpy as np"
   ]
  },
  {
   "source": [
    "# Read CSV file using Pandas, output is a data frame¶"
   ],
   "cell_type": "markdown",
   "metadata": {}
  },
  {
   "cell_type": "code",
   "execution_count": 35,
   "metadata": {},
   "outputs": [
    {
     "output_type": "stream",
     "name": "stderr",
     "text": [
      "b'Skipping line 50794: expected 12 fields, saw 20\\n'\n"
     ]
    }
   ],
   "source": [
    "df_trip = pd.read_csv('./trip.csv',error_bad_lines=False)\n",
    "df_whether = pd.read_csv('./weather.csv')\n",
    "df_station = pd.read_csv('./station.csv')\n",
    "\n",
    "\n"
   ]
  },
  {
   "source": [
    "## What is the average trip duration for a borrowed bicycle?\n"
   ],
   "cell_type": "markdown",
   "metadata": {}
  },
  {
   "cell_type": "code",
   "execution_count": 36,
   "metadata": {},
   "outputs": [
    {
     "output_type": "execute_result",
     "data": {
      "text/plain": [
       "1178.2956753399776"
      ]
     },
     "metadata": {},
     "execution_count": 36
    }
   ],
   "source": [
    "trip_duration_average=df_trip['tripduration'].mean()\n",
    "trip_duration_average"
   ]
  },
  {
   "source": [
    "## What’s the most common age of a bicycle-sharer?\n"
   ],
   "cell_type": "markdown",
   "metadata": {}
  },
  {
   "cell_type": "code",
   "execution_count": 39,
   "metadata": {},
   "outputs": [
    {
     "output_type": "execute_result",
     "data": {
      "text/plain": [
       "34.0"
      ]
     },
     "metadata": {},
     "execution_count": 39
    }
   ],
   "source": [
    "most_common_age= 2021-df_trip.birthyear.mode()[0]\n",
    "most_common_age"
   ]
  },
  {
   "source": [
    "## Given all the weather data here, find the average precipitation per month, and the median precipitation."
   ],
   "cell_type": "markdown",
   "metadata": {}
  },
  {
   "cell_type": "code",
   "execution_count": 51,
   "metadata": {},
   "outputs": [
    {
     "output_type": "execute_result",
     "data": {
      "text/plain": [
       "(3.1519593613933234, 0.0)"
      ]
     },
     "metadata": {},
     "execution_count": 51
    }
   ],
   "source": [
    "df_whether\n",
    "average_precipitation_per_month=df_whether['Precipitation_In'].mean()*30\n",
    "median_precipitation=df_whether['Precipitation_In'].median()\n",
    "tuple_precipitation=(average_precipitation_per_month\n",
    ",median_precipitation)\n",
    "tuple_precipitation\n",
    "\n"
   ]
  },
  {
   "source": [
    "## What’s the average number of bikes at a given bike station?"
   ],
   "cell_type": "markdown",
   "metadata": {}
  },
  {
   "cell_type": "code",
   "execution_count": 63,
   "metadata": {},
   "outputs": [
    {
     "output_type": "execute_result",
     "data": {
      "text/plain": [
       "18"
      ]
     },
     "metadata": {},
     "execution_count": 63
    }
   ],
   "source": [
    "average_number_bikes= round(df_station['install_dockcount'].mean())\n",
    "average_number_bikes\n"
   ]
  },
  {
   "source": [
    "## When a bike station is modified, is it more likely that it’ll lose bikes or gain bikes? How do you know?\n"
   ],
   "cell_type": "markdown",
   "metadata": {}
  },
  {
   "cell_type": "code",
   "execution_count": 107,
   "metadata": {},
   "outputs": [
    {
     "output_type": "stream",
     "name": "stdout",
     "text": [
      "-64\nBecause the install dockcount more than current dockcount so it will lose\n"
     ]
    }
   ],
   "source": [
    "\n",
    "remove_nan_date = df_station[['modification_date','current_dockcount','install_dockcount']].dropna()\n",
    "station_is_modified = remove_nan_date['current_dockcount'].sum() - remove_nan_date['install_dockcount'].sum()\n",
    "print(station_is_modified)\n",
    "print('Because the install dockcount more than current dockcount so it will lose')"
   ]
  },
  {
   "source": [
    "## What is the average max temperature in fahrenheit?"
   ],
   "cell_type": "markdown",
   "metadata": {}
  },
  {
   "cell_type": "code",
   "execution_count": 68,
   "metadata": {},
   "outputs": [
    {
     "output_type": "execute_result",
     "data": {
      "text/plain": [
       "64.02757619738752"
      ]
     },
     "metadata": {},
     "execution_count": 68
    }
   ],
   "source": [
    "average_max_temp=df_whether['Max_Temperature_F'].mean()\n",
    "average_max_temp"
   ]
  },
  {
   "source": [
    "## What is the average minimum temperature in fahrenheit?"
   ],
   "cell_type": "markdown",
   "metadata": {}
  },
  {
   "cell_type": "code",
   "execution_count": 70,
   "metadata": {},
   "outputs": [
    {
     "output_type": "execute_result",
     "data": {
      "text/plain": [
       "49.45428156748911"
      ]
     },
     "metadata": {},
     "execution_count": 70
    }
   ],
   "source": [
    "average_min_temp=df_whether['Min_TemperatureF'].mean()\n",
    "average_min_temp"
   ]
  },
  {
   "source": [
    "## What is the median trip duration for a borrowed bicycle?"
   ],
   "cell_type": "markdown",
   "metadata": {}
  },
  {
   "cell_type": "code",
   "execution_count": 73,
   "metadata": {},
   "outputs": [
    {
     "output_type": "execute_result",
     "data": {
      "text/plain": [
       "624.842"
      ]
     },
     "metadata": {},
     "execution_count": 73
    }
   ],
   "source": [
    "trip_duration_median=df_trip['tripduration'].median()\n",
    "trip_duration_median"
   ]
  },
  {
   "cell_type": "code",
   "execution_count": 108,
   "metadata": {},
   "outputs": [
    {
     "output_type": "stream",
     "name": "stdout",
     "text": [
      "Success!!!\n"
     ]
    }
   ],
   "source": [
    "def test():\n",
    "\n",
    "    def assert_equal(actual,expected):\n",
    "        assert actual == expected, f\"Expected {expected} but got {actual}\"\n",
    "\n",
    "    assert_equal(trip_duration_average, 1178.2956753399776)\n",
    "    assert_equal(most_common_age, 34.0)\n",
    "    assert_equal(tuple_precipitation, (3.1519593613933234, 0.0))\n",
    "    assert_equal(average_number_bikes, 18)\n",
    "    assert_equal(station_is_modified, -64)\n",
    "    assert_equal(average_max_temp, 64.02757619738752)\n",
    "    assert_equal(average_min_temp, 49.45428156748911)\n",
    "    assert_equal(trip_duration_median, 624.842)\n",
    "\n",
    "\n",
    "    print(\"Success!!!\")\n",
    "\n",
    "test()\n"
   ]
  },
  {
   "cell_type": "code",
   "execution_count": null,
   "metadata": {},
   "outputs": [],
   "source": []
  }
 ]
}